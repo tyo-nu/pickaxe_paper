{
 "cells": [
  {
   "cell_type": "markdown",
   "metadata": {},
   "source": [
    "# Basic Pickaxe Examples\n",
    "This notebook has basic examples on how to run Pickaxe.\n",
    "\n",
    "1. Basic Expansion\n",
    "2. Expansion with Filters\n",
    "3. Save to MongoDB and get UniProt ID"
   ]
  },
  {
   "cell_type": "code",
   "execution_count": 18,
   "metadata": {},
   "outputs": [],
   "source": [
    "from minedatabase import pickaxe\n",
    "from minedatabase import rules\n",
    "from minedatabase import filters\n",
    "from minedatabase import databases\n",
    "import pymongo"
   ]
  },
  {
   "cell_type": "markdown",
   "metadata": {},
   "source": [
    "# 1. Basic Expansion"
   ]
  },
  {
   "cell_type": "markdown",
   "metadata": {},
   "source": [
    "## Initialize the Pickaxe Object"
   ]
  },
  {
   "cell_type": "code",
   "execution_count": 12,
   "metadata": {},
   "outputs": [
    {
     "name": "stdout",
     "output_type": "stream",
     "text": [
      "----------------------------------------\n",
      "Intializing pickaxe object\n",
      "\n",
      "Done intializing pickaxe object\n",
      "----------------------------------------\n",
      "\n"
     ]
    },
    {
     "name": "stderr",
     "output_type": "stream",
     "text": [
      "RDKit WARNING: [15:09:12] WARNING: not removing hydrogen atom without neighbors\n",
      "[15:09:12] WARNING: not removing hydrogen atom without neighbors\n",
      "RDKit WARNING: [15:09:12] WARNING: not removing hydrogen atom without neighbors\n",
      "[15:09:12] WARNING: not removing hydrogen atom without neighbors\n"
     ]
    }
   ],
   "source": [
    "# Specify Rules by Fraction Metacyc Covered\n",
    "rule_list, correactants, _ = rules.metacyc_generalized(fraction_coverage=0.1)\n",
    "# or by \n",
    "rule_list, correactants, _ = rules.metacyc_generalized(n_rules=10)\n",
    "\n",
    "# These are the base requirements\n",
    "# More options available to initialize\n",
    "pk = pickaxe.Pickaxe(rule_list=rule_list, coreactant_list=correactants, errors=False)"
   ]
  },
  {
   "cell_type": "markdown",
   "metadata": {},
   "source": [
    "## Read the Compounds in and Expand"
   ]
  },
  {
   "cell_type": "code",
   "execution_count": 13,
   "metadata": {},
   "outputs": [
    {
     "name": "stdout",
     "output_type": "stream",
     "text": [
      "30 compounds loaded...\n",
      "(30 after removing stereochemistry)\n",
      "----------------------------------------\n",
      "Expanding Generation 1\n",
      "\n",
      "Generation 1: 0 percent complete\n",
      "Generation 1: 10 percent complete\n",
      "Generation 1: 20 percent complete\n",
      "Generation 1: 30 percent complete\n",
      "Generation 1: 40 percent complete\n",
      "Generation 1: 50 percent complete\n",
      "Generation 1: 60 percent complete\n",
      "Generation 1: 70 percent complete\n",
      "Generation 1: 80 percent complete\n",
      "Generation 1: 90 percent complete\n",
      "Generation 1 finished in 3.0716092586517334 s and contains:\n",
      "\t\t432 new compounds\n",
      "\t\t432 new reactions\n",
      "\n",
      "Done expanding Generation: 1.\n",
      "----------------------------------------\n",
      "\n",
      "----------------------------------------\n",
      "Expanding Generation 2\n",
      "\n",
      "Generation 2: 0 percent complete\n",
      "Generation 2: 10 percent complete\n",
      "Generation 2: 20 percent complete\n",
      "Generation 2: 30 percent complete\n",
      "Generation 2: 40 percent complete\n",
      "Generation 2: 50 percent complete\n",
      "Generation 2: 60 percent complete\n",
      "Generation 2: 70 percent complete\n",
      "Generation 2: 80 percent complete\n",
      "Generation 2: 90 percent complete\n",
      "Generation 2: 100 percent complete\n",
      "Generation 2 finished in 47.33014392852783 s and contains:\n",
      "\t\t8424 new compounds\n",
      "\t\t12094 new reactions\n",
      "\n",
      "Done expanding Generation: 2.\n",
      "----------------------------------------\n",
      "\n"
     ]
    }
   ],
   "source": [
    "# Read in compounds\n",
    "pk.load_compound_set(\"inputs/YMBD_30.csv\")\n",
    "\n",
    "# Expand with n processors for m generations\n",
    "pk.transform_all(processes=10, generations=2)"
   ]
  },
  {
   "cell_type": "markdown",
   "metadata": {},
   "source": [
    "## Save The Data"
   ]
  },
  {
   "cell_type": "code",
   "execution_count": 14,
   "metadata": {},
   "outputs": [
    {
     "name": "stderr",
     "output_type": "stream",
     "text": [
      "RDKit ERROR: [15:10:03] Invalid InChI prefix in generating InChI Key\n",
      "[15:10:03] Invalid InChI prefix in generating InChI Key\n",
      "RDKit ERROR: [15:10:03] Invalid InChI prefix in generating InChI Key\n",
      "RDKit ERROR: [15:10:03] Invalid InChI prefix in generating InChI Key\n",
      "RDKit ERROR: [15:10:03] Invalid InChI prefix in generating InChI Key\n",
      "RDKit ERROR: [15:10:03] Can't kekulize mol.  Unkekulized atoms: 19 23 26 27 28 29 30 31 33 34\n",
      "[15:10:03] Invalid InChI prefix in generating InChI Key\n",
      "[15:10:03] Invalid InChI prefix in generating InChI Key\n",
      "[15:10:03] Invalid InChI prefix in generating InChI Key\n",
      "[15:10:03] Can't kekulize mol.  Unkekulized atoms: 19 23 26 27 28 29 30 31 33 34\n",
      "\n",
      "RDKit ERROR: \n",
      "RDKit ERROR: [15:10:03] Invalid InChI prefix in generating InChI Key\n",
      "RDKit WARNING: [15:10:03] WARNING: not removing hydrogen atom without neighbors\n",
      "[15:10:03] Invalid InChI prefix in generating InChI Key\n",
      "[15:10:03] WARNING: not removing hydrogen atom without neighbors\n"
     ]
    }
   ],
   "source": [
    "pk.assign_ids()\n",
    "pk.write_compound_output_file(\"data/pk_basic/compounds.tsv\")\n",
    "pk.write_reaction_output_file(\"data/pk_basic/reactions.tsv\")"
   ]
  },
  {
   "cell_type": "markdown",
   "metadata": {},
   "source": [
    "# Apply Filters\n",
    "By applying filters it is possible to reduce the pickaxe expansion to a more targeted one. In the following example, two filters (an atomic composition and a molecular weight filter) are used with the previous expansion to reduce the run to contain only compounds with molecular weight less than 300 g/mol, 5 or fewere carbons, and more than one oxygen."
   ]
  },
  {
   "cell_type": "code",
   "execution_count": 15,
   "metadata": {},
   "outputs": [
    {
     "name": "stdout",
     "output_type": "stream",
     "text": [
      "----------------------------------------\n",
      "Intializing pickaxe object\n",
      "\n",
      "Done intializing pickaxe object\n",
      "----------------------------------------\n",
      "\n"
     ]
    },
    {
     "name": "stderr",
     "output_type": "stream",
     "text": [
      "RDKit WARNING: [15:10:12] WARNING: not removing hydrogen atom without neighbors\n",
      "RDKit WARNING: [15:10:12] WARNING: not removing hydrogen atom without neighbors\n",
      "[15:10:12] WARNING: not removing hydrogen atom without neighbors\n",
      "[15:10:12] WARNING: not removing hydrogen atom without neighbors\n"
     ]
    }
   ],
   "source": [
    "rule_list, correactants, _ = rules.metacyc_generalized(n_rules=10)\n",
    "pk_filter = pickaxe.Pickaxe(rule_list=rule_list, coreactant_list=correactants)\n",
    "\n",
    "# Retain only compounds with <= 100 g/mol\n",
    "mw_filter = filters.MWFilter(min_MW=0, max_MW=300)\n",
    "# Retain only compounds with specific composition\n",
    "ac_filter = filters.AtomicCompositionFilter({\"C\":[0, 5], \"O\": [1, None]})\n",
    "\n",
    "# Append filters on to the filter variable in the pickaxe object\n",
    "pk_filter.filters.extend([mw_filter, ac_filter])"
   ]
  },
  {
   "cell_type": "code",
   "execution_count": 16,
   "metadata": {},
   "outputs": [
    {
     "name": "stdout",
     "output_type": "stream",
     "text": [
      "30 compounds loaded...\n",
      "(30 after removing stereochemistry)\n",
      "----------------------------------------\n",
      "Filtering Generation 0\n",
      "\n",
      "Applying filter: Molecular Weight\n",
      "Filtering Generation 0 with 0 < MW < 300.\n",
      "23 of 30 compounds remain after applying filter: Molecular Weight--took 0.0s.\n",
      "\n",
      "Done filtering Generation 0\n",
      "----------------------------------------\n",
      "\n",
      "----------------------------------------\n",
      "Filtering Generation 0\n",
      "\n",
      "Applying filter: Atomic Composition\n",
      "Filtering Generation 0 with atomic composition {'C': [0, 5], 'O': [1, None]}.\n",
      "6 of 23 compounds remain after applying filter: Atomic Composition--took 0.0s.\n",
      "\n",
      "Done filtering Generation 0\n",
      "----------------------------------------\n",
      "\n",
      "----------------------------------------\n",
      "Expanding Generation 1\n",
      "\n",
      "Generation 1: 0 percent complete\n",
      "Generation 1: 17 percent complete\n",
      "Generation 1: 33 percent complete\n",
      "Generation 1: 50 percent complete\n",
      "Generation 1: 67 percent complete\n",
      "Generation 1: 83 percent complete\n",
      "Generation 1 finished in 1.155043125152588 s and contains:\n",
      "\t\t42 new compounds\n",
      "\t\t42 new reactions\n",
      "\n",
      "Done expanding Generation: 1.\n",
      "----------------------------------------\n",
      "\n",
      "----------------------------------------\n",
      "Filtering Generation 1\n",
      "\n",
      "Applying filter: Molecular Weight\n",
      "Filtering Generation 1 with 0 < MW < 300.\n",
      "34 of 42 compounds remain after applying filter: Molecular Weight--took 0.0s.\n",
      "\n",
      "Done filtering Generation 1\n",
      "----------------------------------------\n",
      "\n",
      "----------------------------------------\n",
      "Filtering Generation 1\n",
      "\n",
      "Applying filter: Atomic Composition\n",
      "Filtering Generation 1 with atomic composition {'C': [0, 5], 'O': [1, None]}.\n",
      "25 of 34 compounds remain after applying filter: Atomic Composition--took 0.0s.\n",
      "\n",
      "Done filtering Generation 1\n",
      "----------------------------------------\n",
      "\n",
      "----------------------------------------\n",
      "Expanding Generation 2\n",
      "\n",
      "Generation 2: 0 percent complete\n",
      "Generation 2: 8 percent complete\n",
      "Generation 2: 16 percent complete\n",
      "Generation 2: 24 percent complete\n",
      "Generation 2: 32 percent complete\n",
      "Generation 2: 40 percent complete\n",
      "Generation 2: 48 percent complete\n",
      "Generation 2: 56 percent complete\n",
      "Generation 2: 64 percent complete\n",
      "Generation 2: 72 percent complete\n",
      "Generation 2: 80 percent complete\n",
      "Generation 2: 88 percent complete\n",
      "Generation 2: 96 percent complete\n",
      "Generation 2 finished in 1.7741601467132568 s and contains:\n",
      "\t\t190 new compounds\n",
      "\t\t255 new reactions\n",
      "\n",
      "Done expanding Generation: 2.\n",
      "----------------------------------------\n",
      "\n",
      "----------------------------------------\n",
      "Filtering Generation 2\n",
      "\n",
      "Applying filter: Molecular Weight\n",
      "Filtering Generation 2 with 0 < MW < 300.\n",
      "135 of 190 compounds remain after applying filter: Molecular Weight--took 0.05s.\n",
      "\n",
      "Done filtering Generation 2\n",
      "----------------------------------------\n",
      "\n",
      "----------------------------------------\n",
      "Filtering Generation 2\n",
      "\n",
      "Applying filter: Atomic Composition\n",
      "Filtering Generation 2 with atomic composition {'C': [0, 5], 'O': [1, None]}.\n",
      "77 of 135 compounds remain after applying filter: Atomic Composition--took 0.0s.\n",
      "\n",
      "Done filtering Generation 2\n",
      "----------------------------------------\n",
      "\n"
     ]
    }
   ],
   "source": [
    "# Read in compounds\n",
    "pk_filter.load_compound_set(\"inputs/YMBD_30.csv\")\n",
    "\n",
    "# Expand with n processors for m generations\n",
    "pk_filter.transform_all(processes=10, generations=2)"
   ]
  },
  {
   "cell_type": "markdown",
   "metadata": {},
   "source": [
    "## Filter Results\n",
    "The pickaxe expansion without filters yields approximately 10k compounds and 13k reactions. Utilizing the filter greatly reduces this by two orders of magnitude."
   ]
  },
  {
   "cell_type": "code",
   "execution_count": 8,
   "metadata": {},
   "outputs": [
    {
     "name": "stdout",
     "output_type": "stream",
     "text": [
      "No Filter\n",
      "\tTotal Compounds:  8929\n",
      "\tTotal Reactions: 12526\n",
      "Filter\n",
      "\tTotal Compounds:  151\n",
      "\tTotal Reactions: 167\n"
     ]
    }
   ],
   "source": [
    "print(f\"No Filter\\n\\tTotal Compounds:  {len(pk.compounds)}\\n\\tTotal Reactions: {len(pk.reactions)}\")\n",
    "print(f\"Filter\\n\\tTotal Compounds:  {len(pk_filter.compounds)}\\n\\tTotal Reactions: {len(pk_filter.reactions)}\")"
   ]
  },
  {
   "cell_type": "markdown",
   "metadata": {},
   "source": [
    "# 3. Using MongoDB\n",
    "It is possible to save the results and recall the results from a MongoDB.\n"
   ]
  },
  {
   "cell_type": "markdown",
   "metadata": {},
   "source": [
    "## Save to Mongo\n",
    "First generate a new pickaxe object "
   ]
  },
  {
   "cell_type": "code",
   "execution_count": 17,
   "metadata": {},
   "outputs": [
    {
     "name": "stdout",
     "output_type": "stream",
     "text": [
      "----------------------------------------\n",
      "Intializing pickaxe object\n",
      "\n",
      "Done intializing pickaxe object\n",
      "----------------------------------------\n",
      "\n",
      "30 compounds loaded...\n",
      "(30 after removing stereochemistry)\n",
      "----------------------------------------\n",
      "Expanding Generation 1\n",
      "\n"
     ]
    },
    {
     "name": "stderr",
     "output_type": "stream",
     "text": [
      "RDKit WARNING: [15:10:42] WARNING: not removing hydrogen atom without neighbors\n",
      "[15:10:42] WARNING: not removing hydrogen atom without neighbors\n",
      "RDKit WARNING: [15:10:42] WARNING: not removing hydrogen atom without neighbors\n",
      "[15:10:42] WARNING: not removing hydrogen atom without neighbors\n"
     ]
    },
    {
     "name": "stdout",
     "output_type": "stream",
     "text": [
      "Generation 1: 0 percent complete\n",
      "Generation 1: 10 percent complete\n",
      "Generation 1: 20 percent complete\n",
      "Generation 1: 30 percent complete\n",
      "Generation 1: 40 percent complete\n",
      "Generation 1: 50 percent complete\n",
      "Generation 1: 60 percent complete\n",
      "Generation 1: 70 percent complete\n",
      "Generation 1: 80 percent complete\n",
      "Generation 1: 90 percent complete\n",
      "Generation 1 finished in 2.1425869464874268 s and contains:\n",
      "\t\t432 new compounds\n",
      "\t\t432 new reactions\n",
      "\n",
      "Done expanding Generation: 1.\n",
      "----------------------------------------\n",
      "\n",
      "----------------------------------------\n",
      "Expanding Generation 2\n",
      "\n",
      "Generation 2: 0 percent complete\n",
      "Generation 2: 10 percent complete\n",
      "Generation 2: 20 percent complete\n",
      "Generation 2: 30 percent complete\n",
      "Generation 2: 40 percent complete\n",
      "Generation 2: 50 percent complete\n",
      "Generation 2: 60 percent complete\n",
      "Generation 2: 70 percent complete\n",
      "Generation 2: 80 percent complete\n",
      "Generation 2: 90 percent complete\n",
      "Generation 2: 100 percent complete\n",
      "Generation 2 finished in 40.83272409439087 s and contains:\n",
      "\t\t8424 new compounds\n",
      "\t\t12094 new reactions\n",
      "\n",
      "Done expanding Generation: 2.\n",
      "----------------------------------------\n",
      "\n",
      "\n",
      "----------------------------------------\n",
      "Writing results to pickaxe_basic Database\n",
      "----------------------------------------\n",
      "\n",
      "--------------- Reactions --------------\n",
      "Writing Reactions: Chunk 0 of 2\n",
      "Wrote Reactions in 0.6495711803436279 seconds.\n",
      "----------------------------------------\n",
      "\n",
      "--------------- Compounds --------------\n",
      "Writing Compounds: Chunk 0 of 1\n",
      "Wrote Compounds in 1.0527470111846924 seconds.\n",
      "----------------------------------------\n",
      "\n",
      "No targets to write to MINE.\n",
      "-------------- Operators ---------------\n",
      "Done with Operators Overall--took 0.24708008766174316 seconds.\n",
      "----------------------------------------\n",
      "\n",
      "-------------- Indices ---------------\n",
      "Built Indices--took 1.7090222835540771 seconds.\n",
      "----------------------------------------\n",
      "\n",
      "-------------- Overall ---------------\n",
      "Finished uploading everything in 3.6666510105133057 sec\n",
      "----------------------------------------\n",
      "\n"
     ]
    }
   ],
   "source": [
    "rule_list, correactants, _ = rules.metacyc_generalized(n_rules=10)\n",
    "pk = pickaxe.Pickaxe(rule_list=rule_list, coreactant_list=correactants, database=\"pickaxe_basic\", database_overwrite=True)\n",
    "pk.load_compound_set(\"./inputs/YMBD_30.csv\")\n",
    "pk.transform_all(10, 2)\n",
    "# Save to the time. Write core is unecessary for Pickaxe\n",
    "pk.save_to_mine(processes=1, indexing=True, write_core=False)"
   ]
  },
  {
   "cell_type": "markdown",
   "metadata": {},
   "source": [
    "## Read in DB"
   ]
  },
  {
   "cell_type": "code",
   "execution_count": 20,
   "metadata": {},
   "outputs": [],
   "source": [
    "db = databases.MINE(\"pickaxe_basic\")"
   ]
  },
  {
   "cell_type": "markdown",
   "metadata": {},
   "source": [
    "## Get info"
   ]
  },
  {
   "cell_type": "code",
   "execution_count": 27,
   "metadata": {},
   "outputs": [],
   "source": [
    "rxns = {val[\"_id\"]: val for val in db.reactions.find({})}\n",
    "cpds = {val[\"_id\"]: val for val in db.compounds.find({})}\n",
    "ops = {val[\"_id\"]: val for val in db.operators.find({})}"
   ]
  },
  {
   "cell_type": "markdown",
   "metadata": {},
   "source": [
    "## Get Uniprot IDs for a Reaction"
   ]
  },
  {
   "cell_type": "code",
   "execution_count": 43,
   "metadata": {},
   "outputs": [
    {
     "name": "stdout",
     "output_type": "stream",
     "text": [
      "Operators: ['rule0004']\n",
      "UniProt IDs for rule0004: A0A1P8W705;A0A250DUW2;A1Z745;A5HMH6;A5HMH7;A5HMH8;A5HMH9;A5HMI0;A5HMI1;A5LGH2;A5YUW2;A5YUW3;A5YUW6;A5YUY2;A5YUY5;A5YUY6;A5YUY7;A5YUZ3;A5YUZ5;A5YUZ6;A5YUZ7;A5YUZ8;A5YUZ9;A5YV00;A5YV01;A5YV02;A5YV03;A5YV04;A5YV05;A5YV06;A5YV08;A5YV10;A5YV11;A5YV12;A5YV13;A5YV14;A5YV15;A5YV16;A5YV18;A5YV19;A5YV20;A5Z0R4;A5Z0R5;A7L9S7;A7L9S8;A7L9S9;A7L9T0;A7LCL0;A7LCL1;A7YVV2;AKR1C2;B2ZFP6;B5TYS8;C0KYN4;C4B644;E0WMN6;E0WMN7;E0WMN8;E1CBX4;E2EB14;ECU0066;G1UBD1;G8FRC5;K4BZH9;K4CEE8;M1JEK6;NCED52;O15229;O15528;O35084;O49814;O68977;O75881;O88867;P00191;P00438;P08683;P08686;P20586;P22869;P27353;P32009;P38169;P38992;P42535;P48635;P51589;P51590;P71875;P72495;Q00456;Q00G65;Q078T0;Q08KD8;Q08KE2;Q0SJK9;Q11PP7;Q25BV9;Q2EMR3;Q2LI72;Q38IC3;Q3LFR2;Q54530;Q57160;Q59971;Q607G3;Q60991;Q6Q8Q7;Q6SSJ6;Q6V9W5;Q6VVW9;Q6VVX0;Q6WG30;Q768T5;Q84HF5;Q84KI1;Q86PM2;Q8ISJ5;Q8KQF0;Q8KQH9;Q8KQI0;Q8PDI2;Q91WN4;Q95NK3;Q95NP6;Q9F131;Q9I0Q0;Q9JKJ9;Q9LTG0;Q9MZS9;Q9R9T1;Q9SZZ8;Q9XS57;Q9ZAU3\n"
     ]
    }
   ],
   "source": [
    "sample_rxn = \"Rcf57b322f34bf94027264a82bf010a137ecaa7f75c71d409e301e848644cafe2\"\n",
    "rxn_ops = rxns[sample_rxn][\"Operators\"]\n",
    "uniprot_ids = ops['rule0004']['Comments']\n",
    "\n",
    "\n",
    "print(f\"Operators: {rxn_ops}\")\n",
    "print(f\"UniProt IDs for rule0004: {uniprot_ids}\")"
   ]
  }
 ],
 "metadata": {
  "kernelspec": {
   "display_name": "Python 3.9.7 ('comb')",
   "language": "python",
   "name": "python3"
  },
  "language_info": {
   "codemirror_mode": {
    "name": "ipython",
    "version": 3
   },
   "file_extension": ".py",
   "mimetype": "text/x-python",
   "name": "python",
   "nbconvert_exporter": "python",
   "pygments_lexer": "ipython3",
   "version": "3.9.7"
  },
  "orig_nbformat": 4,
  "vscode": {
   "interpreter": {
    "hash": "48a7033078221f2502f6da428408cf80d42e69035aa53b03ff2300cf0aca12a0"
   }
  }
 },
 "nbformat": 4,
 "nbformat_minor": 2
}
