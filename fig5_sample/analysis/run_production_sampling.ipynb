{
 "cells": [
  {
   "cell_type": "markdown",
   "metadata": {},
   "source": [
    "# Analyze the run production (targets, compounds) of the sampling runs"
   ]
  },
  {
   "cell_type": "markdown",
   "metadata": {},
   "source": [
    "# Some Setup\n",
    "Define imports, some necessary variables, and some functions"
   ]
  },
  {
   "cell_type": "markdown",
   "metadata": {},
   "source": [
    "## Imports"
   ]
  },
  {
   "cell_type": "code",
   "execution_count": 1,
   "metadata": {},
   "outputs": [],
   "source": [
    "from collections import Counter\n",
    "from matplotlib import rcParams\n",
    "import matplotlib.pyplot as plt\n",
    "import matplotlib.gridspec as gridspec\n",
    "import seaborn as sns\n",
    "import pandas as pd\n",
    "import pymongo"
   ]
  },
  {
   "cell_type": "markdown",
   "metadata": {},
   "source": [
    "## Database definitions"
   ]
  },
  {
   "cell_type": "code",
   "execution_count": 2,
   "metadata": {},
   "outputs": [],
   "source": [
    "# mongo_uri = open(\"../mongo_uri.csv\").read().strip(\"\\n\")\n",
    "client = pymongo.MongoClient()\n",
    "\n",
    "db_names = [f\"kms_YMDB_2ksampleC_T{i}\" for i in [0, 3, 6]]"
   ]
  },
  {
   "cell_type": "code",
   "execution_count": 3,
   "metadata": {},
   "outputs": [],
   "source": [
    "for db_name in client.list_databases():\n",
    "    if db_name['name'].startswith(\"YMDB\"):\n",
    "        print(db_name['name'])\n",
    "        # client.drop_database(db_name['name'])"
   ]
  },
  {
   "cell_type": "markdown",
   "metadata": {},
   "source": [
    "## Function to analyze definitions"
   ]
  },
  {
   "cell_type": "code",
   "execution_count": 4,
   "metadata": {},
   "outputs": [],
   "source": [
    "def get_found_dict(db, max_gens):\n",
    "    targets = set(\"C\" + i[\"_id\"][1:] for i in client[db].target_compounds.find({}, {\"_id\": 1}))\n",
    "\n",
    "    found_dicts = []\n",
    "    for gen in range(1, max_gens+1):\n",
    "        found_dict = dict()\n",
    "        gen_compounds = set(i[\"_id\"] for i in client[db].compounds.find({\"Generation\": {\"$eq\": gen}}, {\"_id\": 1}))\n",
    "        found_targets = len(gen_compounds.intersection(targets))\n",
    "        found_dict[\"targets\"] = found_targets\n",
    "        found_dict[\"generation\"] = gen\n",
    "        found_dict[\"run\"] = db.replace(\",\", \".\")\n",
    "        found_dict[\"weight\"] = db.split(\"_\")[-1]\n",
    "\n",
    "        found_dicts.append(found_dict)\n",
    "        \n",
    "    return found_dicts"
   ]
  },
  {
   "cell_type": "markdown",
   "metadata": {},
   "source": [
    "## Manually input run info"
   ]
  },
  {
   "cell_type": "code",
   "execution_count": 5,
   "metadata": {},
   "outputs": [],
   "source": [
    "# Manually retrieve total compounds generation\n",
    "compound_gen_dict = {\n",
    "    \"kms_YMDB_2ksampleC_T0\":\n",
    "    {\n",
    "        \"0\": 803,\n",
    "        \"1\": 146091,\n",
    "        \"2\": 314455,\n",
    "        \"3\": 433681,\n",
    "        \"4\": 511696,\n",
    "        \"5\": 591036,\n",
    "    },\n",
    "    \"kms_YMDB_2ksampleC_T3\":\n",
    "    {\n",
    "        \"0\": 803,\n",
    "        \"1\": 146091,\n",
    "        \"2\": 339190,\n",
    "        \"3\": 541788,\n",
    "        \"4\": 670785,\n",
    "        \"5\": 702338,\n",
    "    },\n",
    "    \"kms_YMDB_2ksampleC_T6\":\n",
    "    {\n",
    "        \"0\": 803,\n",
    "        \"1\": 146091,\n",
    "        \"2\": 364598,\n",
    "        \"3\": 578476,\n",
    "        \"4\": 639772,\n",
    "        \"5\": 663111,\n",
    "    },\n",
    "   \n",
    "}"
   ]
  },
  {
   "cell_type": "markdown",
   "metadata": {},
   "source": [
    "---\n",
    "---"
   ]
  },
  {
   "cell_type": "markdown",
   "metadata": {},
   "source": [
    "# Process Data into dataframe"
   ]
  },
  {
   "cell_type": "code",
   "execution_count": 6,
   "metadata": {},
   "outputs": [],
   "source": [
    "dict_list = []\n",
    "n_gen = 5\n",
    "\n",
    "# Grab data from MongoDB\n",
    "for i, db in enumerate(db_names):\n",
    "    dict_list.extend(get_found_dict(db, n_gen))\n",
    "\n",
    "# Grab manually inserted data\n",
    "for key, val in compound_gen_dict.items():\n",
    "    for dict_entry in dict_list:\n",
    "        if dict_entry[\"run\"] == key:\n",
    "            gen = dict_entry[\"generation\"]\n",
    "\n",
    "            dict_entry[\"compounds\"] = val[str(gen)]\n",
    "\n",
    "# Make df from the data\n",
    "tani_df = pd.DataFrame(dict_list)\n",
    "runs = [r for r in set(tani_df[\"run\"])]\n",
    "\n",
    "# Grab total values\n",
    "for run in runs:\n",
    "    run_total = {\n",
    "        \"run\": run,\n",
    "        \"generation\": \"total\",\n",
    "        \"targets\": tani_df[tani_df[\"run\"] == run][\"targets\"].sum(),\n",
    "        \"compounds\": tani_df[tani_df[\"run\"] == run][\"compounds\"].sum(),\n",
    "        \"weight\": run.split(\"_\")[-1],\n",
    "    }\n",
    "    tani_df = tani_df.append(run_total,  ignore_index=True)\n",
    "\n",
    "# Grab melted DF\n",
    "tani_melt_df = tani_df.melt(id_vars=[\"run\", \"generation\", \"weight\"], value_vars=[\"targets\", \"compounds\"], var_name=\"type\", value_name=\"counts\")"
   ]
  },
  {
   "cell_type": "markdown",
   "metadata": {},
   "source": [
    "## Process Data"
   ]
  },
  {
   "cell_type": "code",
   "execution_count": 7,
   "metadata": {},
   "outputs": [],
   "source": [
    "%%capture\n",
    "compound_df = tani_melt_df[(tani_melt_df[\"type\"] == \"compounds\") & (tani_melt_df[\"generation\"] != \"total\")]\n",
    "target_df = tani_melt_df[(tani_melt_df[\"type\"] == \"targets\") & (tani_melt_df[\"generation\"] != \"total\")]\n",
    "\n",
    "w_dfs = []\n",
    "weights = set(target_df.weight)\n",
    "for weight in weights:\n",
    "    w_dfs.append(target_df[target_df[\"weight\"] == weight][\"counts\"].cumsum())\n",
    "\n",
    "cumsum_df = pd.concat(w_dfs)\n",
    "target_df.loc[cumsum_df.index, \"cumsum\"] = cumsum_df\n",
    "\n",
    "total_targets = [{\"generation\": \"Total Targets\", \"cumsum\": 250, \"weight\": w} for w in weights]\n",
    "target_df = target_df.append(total_targets)"
   ]
  },
  {
   "cell_type": "code",
   "execution_count": 8,
   "metadata": {},
   "outputs": [],
   "source": [
    "cpd_trgt = compound_df.merge(target_df, on=[\"run\", \"generation\"])\n",
    "target_df[\"target_per_compound\"] = cpd_trgt[\"counts_y\"]/cpd_trgt[\"counts_x\"]\n",
    "\n",
    "target_df = target_df.fillna(0)\n",
    "target_df.reset_index(drop=True, inplace=True)\n",
    "\n",
    "w_dfs = []\n",
    "weights = set(target_df.weight)\n",
    "for weight in weights:\n",
    "    w_dfs.append(target_df[target_df[\"weight\"] == weight][\"target_per_compound\"].cumsum())\n",
    "\n",
    "cumsum_df = pd.concat(w_dfs)\n",
    "target_df.loc[cumsum_df.index, \"target_per_compound_cumsum\"] = cumsum_df\n",
    "\n",
    "# Normalize to T0\n",
    "target_df.loc[target_df.weight == \"T0\", \"target_per_compound\"] = target_df[target_df.weight == \"T0\"].target_per_compound / target_df[target_df.weight == \"T0\"].target_per_compound"
   ]
  },
  {
   "cell_type": "markdown",
   "metadata": {},
   "source": [
    "# Load Fingerprint Data"
   ]
  },
  {
   "cell_type": "code",
   "execution_count": 9,
   "metadata": {},
   "outputs": [],
   "source": [
    "T0_df = pd.read_csv(\"YMDB_2ksampleC_T0_similarity.csv\")\n",
    "T3_df = pd.read_csv(\"YMDB_2ksampleC_T3_similarity.csv\")\n",
    "T6_df = pd.read_csv(\"YMDB_2ksampleC_T6_similarity.csv\")"
   ]
  },
  {
   "cell_type": "markdown",
   "metadata": {},
   "source": [
    "# Figure Generation"
   ]
  },
  {
   "cell_type": "code",
   "execution_count": 10,
   "metadata": {},
   "outputs": [],
   "source": [
    "from matplotlib import rcParams\n",
    "params = {\n",
    "   'axes.labelsize': 18,\n",
    "   'font.size': 18,\n",
    "   'legend.fontsize': 14,\n",
    "   'legend.title_fontsize': 18,\n",
    "   'xtick.labelsize': 18,\n",
    "   'ytick.labelsize': 18,\n",
    "   'text.usetex': False,\n",
    "   'figure.figsize': [4.5, 4.5],\n",
    "   }\n",
    "rcParams.update(params)\n",
    "\n",
    "# sns.set_palette(\"pastel\")"
   ]
  },
  {
   "cell_type": "code",
   "execution_count": 14,
   "metadata": {},
   "outputs": [
    {
     "name": "stderr",
     "output_type": "stream",
     "text": [
      "<ipython-input-14-7b57aaf30b76>:89: UserWarning: FixedFormatter should only be used together with FixedLocator\n",
      "  ax.set_xticklabels([\"$T^0$\", \"$T^3$\", \"$T^6$\"]) #, rotation=60, ha='right', rotation_mode=\"anchor\")\n"
     ]
    },
    {
     "data": {
      "image/png": "[encoded data removed]",
      "text/plain": [
       "<Figure size 1296x792 with 5 Axes>"
      ]
     },
     "metadata": {
      "needs_background": "light"
     },
     "output_type": "display_data"
    }
   ],
   "source": [
    "##########################################\n",
    "# Base plot options\n",
    "fig = plt.figure(figsize=(18, 11))\n",
    "gs = fig.add_gridspec(3, 6)\n",
    "axt1 = fig.add_subplot(gs[0:2, :3])\n",
    "axt2 = fig.add_subplot(gs[0:2, 3:])\n",
    "axb1 = fig.add_subplot(gs[-1, :2])\n",
    "axb2 = fig.add_subplot(gs[-1, 2:4])\n",
    "axb3 = fig.add_subplot(gs[-1, 4:])\n",
    "\n",
    "taxs = [axt1, axt2]\n",
    "baxs = [axb1, axb2, axb3]\n",
    "\n",
    "##########################################\n",
    "# Some Definitials up front\n",
    "runs = list(set(compound_df.run))\n",
    "runs = sorted(runs)\n",
    "\n",
    "weights = list(set(compound_df.weight))\n",
    "weights = sorted(weights)\n",
    "\n",
    "palette = \"colorblind\"\n",
    "\n",
    "cpd_legends = [str(i) for i in [1, 2, 3, 4, 5]]\n",
    "target_legends = [str(i) for i in [1, 2, 3, 4, 5]] + [\"Not Generated\"]\n",
    "\n",
    "\n",
    "##########################################\n",
    "# Plot compound generation plot\n",
    "ylim = (0, 1000000) \n",
    "\n",
    "ax = taxs[0]\n",
    "sns.barplot(\n",
    "    data=compound_df,\n",
    "    x=\"weight\", y=\"counts\", hue=\"generation\",\n",
    "    ax=ax, #palette=\"dark\", alpha=0.6\n",
    "    palette=palette\n",
    ")\n",
    "ax.set(\n",
    "    ylabel=\"Compounds Generated\",\n",
    "    xlabel=\"Weight\",\n",
    "    ylim=ylim\n",
    ")\n",
    "\n",
    "legend = ax.get_legend()\n",
    "handles = legend.legendHandles\n",
    "\n",
    "ax.legend(\n",
    "    handles,\n",
    "    cpd_legends,\n",
    "    title=\"Generation\"\n",
    "    )\n",
    "\n",
    "ax.ticklabel_format(axis='y', style='sci', scilimits=(6,6))\n",
    "############################################################\n",
    "ax = taxs[1]\n",
    "g = sns.histplot(\n",
    "    data=target_df,\n",
    "    x=\"weight\",\n",
    "    hue=\"generation\",\n",
    "    weights=\"cumsum\",\n",
    "    palette=palette,\n",
    "    alpha=1,\n",
    "    shrink=0.7,\n",
    "    ax=ax,\n",
    "    # legend=True\n",
    ")\n",
    "\n",
    "ax.set(\n",
    "    xlabel=\"Weight\",\n",
    "    ylabel=\"Targets Generated\"\n",
    ");\n",
    "# ax.set_xlim(-0.5, 4);\n",
    "\n",
    "legend = ax.get_legend()\n",
    "handles = legend.legendHandles\n",
    "\n",
    "ax.legend(\n",
    "    handles,\n",
    "    target_legends,\n",
    "    bbox_to_anchor=(1,1),\n",
    "    loc=\"upper left\",\n",
    "    title=\"Generation\"\n",
    "    )\n",
    "\n",
    "taxs[0].legend(bbox_to_anchor=(1.02, 1), loc='upper left', borderaxespad=0, title=\"Generation\")\n",
    "\n",
    "for ax in taxs:\n",
    "    ax.set_xticklabels([\"$T^0$\", \"$T^3$\", \"$T^6$\"]) #, rotation=60, ha='right', rotation_mode=\"anchor\")\n",
    "    ax.set_xlabel(\"Weight\")\n",
    "    ax.set_aspect(1./ax.get_data_ratio())\n",
    "\n",
    "############################################################\n",
    "## Bottom\n",
    "bins = 40\n",
    "\n",
    "dfs = [T0_df, T3_df, T6_df]\n",
    "for i in range(0, 3):\n",
    "    df = dfs[i]\n",
    "    ax = baxs[i]\n",
    "    sns.histplot(x=\"max_similarity\",\n",
    "        data = df[\n",
    "            (~df.SMILES.map(lambda s: s.startswith(\"CC(C)(COP(=O)(O)OP(=O)(O)OC[C@H]1O[C@@\") or s.startswith(\"C=C(C)C(=CSCCNC(=O)CCNC(=O)[C@H](O)C(C\")))\n",
    "            & (df.max_similarity != 1)\n",
    "            & ((df.max_similarity < 0.26) | (df.max_similarity > 0.27))\n",
    "            ],\n",
    "            ax=ax, bins=bins, stat=\"probability\")\n",
    "\n",
    "    ax.vlines(df.max_similarity.mean(), 0, 20000, linestyles='--', color='k')\n",
    "    ax.set(\n",
    "        xlim=(0, 1),\n",
    "        ylim=(0, 0.1),\n",
    "        xlabel=\"Similarity Score\"\n",
    "    )\n",
    "    ax.set_aspect(1/2/ax.get_data_ratio())\n",
    "    ax.text(0.9, 0.08, f\"$T^{(i-1)*3 + 3}$\", fontsize=18)  \n",
    "\n",
    "fig.subplots_adjust(hspace=0.5)\n",
    "fig.subplots_adjust(wspace=1.5)\n",
    "\n",
    "taxs[0].set_anchor(\"W\")\n",
    "taxs[1].set_anchor(\"E\")\n",
    "baxs[0].set_anchor(\"W\")\n",
    "baxs[1].set_anchor(\"C\")\n",
    "baxs[2].set_anchor(\"E\")\n",
    "\n",
    "fig.savefig(\"../figures/fig5_tanimoto_sampling.png\", dpi='figure', bbox_inches='tight')"
   ]
  },
  {
   "cell_type": "code",
   "execution_count": null,
   "metadata": {},
   "outputs": [],
   "source": []
  }
 ],
 "metadata": {
  "interpreter": {
   "hash": "e2801dc999a1f11a8006cd6a3b0963d1db5f04dc1d1cd7acfb0a119c7f614f07"
  },
  "kernelspec": {
   "display_name": "Python 3.9.2 64-bit ('minedb': conda)",
   "name": "python3"
  },
  "language_info": {
   "codemirror_mode": {
    "name": "ipython",
    "version": 3
   },
   "file_extension": ".py",
   "mimetype": "text/x-python",
   "name": "python",
   "nbconvert_exporter": "python",
   "pygments_lexer": "ipython3",
   "version": "3.9.2"
  },
  "orig_nbformat": 4
 },
 "nbformat": 4,
 "nbformat_minor": 2
}
