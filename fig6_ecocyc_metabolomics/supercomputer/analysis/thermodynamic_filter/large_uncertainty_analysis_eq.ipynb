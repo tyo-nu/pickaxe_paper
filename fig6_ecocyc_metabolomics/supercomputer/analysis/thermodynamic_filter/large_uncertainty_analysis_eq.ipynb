{
 "cells": [
  {
   "cell_type": "code",
   "execution_count": 14,
   "source": [
    "from equilibrator_api import Reaction, ComponentContribution\n",
    "from equilibrator_assets.local_compound_cache import LocalCompoundCache\n",
    "\n",
    "cc = ComponentContribution()\n",
    "\n",
    "# Connect to my db\n",
    "lc = LocalCompoundCache()\n",
    "\n",
    "# Using fresh cache\n",
    "lc.generate_local_cache_from_default_zenodo(\"compounds.sqlite\")\n",
    "lc.load_cache(\"compounds.sqlite\")\n",
    "\n",
    "# Define Reaction + Get Compounds\n",
    "# rxn smarts to visualize in software\n",
    "rxn_smarts = \"C[N+](C)(C)CCOP(=O)(O)OCC(O)CO.O=P(O)(O)OP(=O)(O)O>>C[N+](C)(C)CCO.O=P(O)(O)OP(=O)(O)OP(=O)(O)OCC(O)CO\"\n",
    "stoichiometry = [(-1, \"C[N+](C)(C)CCOP(=O)(O)OCC(O)CO\"), (-1, \"O=P(O)(O)OP(=O)(O)O\"), (1, \"C[N+](C)(C)CCO\"), (1, \"O=P(O)(O)OP(=O)(O)OP(=O)(O)OCC(O)CO\")]\n",
    "eq_cpds = [lc.get_compounds(smi[1]) for smi in stoichiometry]\n",
    "\n",
    "# Check to see which compounds already existed, all but last\n",
    "eq_cpds"
   ],
   "outputs": [
    {
     "output_type": "stream",
     "name": "stdout",
     "text": [
      "compounds.sqlite already exists.\n",
      "Delete existing file and replace?\n",
      "Deleting compounds.sqlite\n",
      "Copying default Zenodo compound cache to compounds.sqlite\n",
      "Loading compounds from compounds.sqlite\n"
     ]
    },
    {
     "output_type": "execute_result",
     "data": {
      "text/plain": [
       "[Compound(id=494894, inchi_key=SUHOQUVVVLNYQR-UHFFFAOYSA-N),\n",
       " Compound(id=14, inchi_key=XPPKVPWEQAFLFU-UHFFFAOYSA-K),\n",
       " Compound(id=85, inchi_key=OEYIOHPDSNJKLS-UHFFFAOYSA-N),\n",
       " Compound(id=694325, inchi_key=GCYZRQQEBNFQTK-UHFFFAOYSA-N)]"
      ]
     },
     "metadata": {},
     "execution_count": 14
    }
   ],
   "metadata": {}
  },
  {
   "cell_type": "markdown",
   "source": [
    "# Generate eQ Reaction and get dgs"
   ],
   "metadata": {}
  },
  {
   "cell_type": "code",
   "execution_count": 16,
   "source": [
    "# Generate eQ Reaction and get dgs\n",
    "# Define reaction string manually and then create dictionary mapping letters to compounds\n",
    "rxn_str = \"1 A + 1 B => 1 C + 1 D\"\n",
    "eq_dict = {letter: eq_cpd for letter, eq_cpd in zip([\"A\", \"B\", \"C\", \"D\"], eq_cpds)}\n",
    "\n",
    "# Generate reaction\n",
    "eq_rxn = Reaction.parse_formula(eq_dict.get, rxn_str)\n",
    "assert eq_rxn.is_balanced\n",
    "\n",
    "# Calculate some dgs\n",
    "phys_dg = cc.physiological_dg_prime(eq_rxn)\n",
    "stand_dg = cc.standard_dg(eq_rxn)\n",
    "\n",
    "print(f\"Physiological: {phys_dg}\\nStandard: {stand_dg}\")"
   ],
   "outputs": [
    {
     "output_type": "stream",
     "name": "stdout",
     "text": [
      "Physiological: (-0 +/- 7)e+04 kilojoule / mole\n",
      "Standard: (-0 +/- 7)e+04 kilojoule / mole\n"
     ]
    }
   ],
   "metadata": {}
  }
 ],
 "metadata": {
  "orig_nbformat": 4,
  "language_info": {
   "name": "python",
   "version": "3.9.2",
   "mimetype": "text/x-python",
   "codemirror_mode": {
    "name": "ipython",
    "version": 3
   },
   "pygments_lexer": "ipython3",
   "nbconvert_exporter": "python",
   "file_extension": ".py"
  },
  "kernelspec": {
   "name": "python3",
   "display_name": "Python 3.9.2 64-bit ('minedb': conda)"
  },
  "interpreter": {
   "hash": "e2801dc999a1f11a8006cd6a3b0963d1db5f04dc1d1cd7acfb0a119c7f614f07"
  }
 },
 "nbformat": 4,
 "nbformat_minor": 2
}