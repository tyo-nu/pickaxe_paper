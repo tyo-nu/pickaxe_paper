{
 "cells": [
  {
   "cell_type": "code",
   "execution_count": 1,
   "metadata": {},
   "outputs": [],
   "source": [
    "import pickle\n",
    "from minedatabase.pickaxe import Pickaxe\n",
    "import seaborn as sns\n",
    "import pandas as pd\n",
    "from copy import deepcopy, copy\n",
    "\n",
    "import seaborn as sns\n",
    "import matplotlib.pyplot as plt\n",
    "\n",
    "from minedatabase.thermodynamics import Thermodynamics\n",
    "\n",
    "thermo = Thermodynamics()\n",
    "thermo.load_thermo_from_postgres()\n",
    "\n",
    "# sns.set_palette(\"pastel\")"
   ]
  },
  {
   "cell_type": "code",
   "execution_count": 2,
   "metadata": {},
   "outputs": [
    {
     "name": "stdout",
     "output_type": "stream",
     "text": [
      "----------------------------------------\n",
      "Intializing pickaxe object\n",
      "\n",
      "Done intializing pickaxe object\n",
      "----------------------------------------\n",
      "\n",
      "Loading ecoli_metab_100t300r200.pk pickled data.\n",
      "Loaded 21336 compounds\n",
      "Loaded 38175 reactions\n",
      "Loaded 50 operators\n",
      "Took 0.452686071395874\n"
     ]
    }
   ],
   "source": [
    "pk = Pickaxe()\n",
    "pk.load_pickled_pickaxe(\"ecoli_metab_100t300r200.pk\")\n",
    "\n",
    "dg_df = pd.read_csv(\"thermo_dataframe_physiological.csv\")\n",
    "feas_df = pd.read_csv(\"feasibility_dataframe.csv\")"
   ]
  },
  {
   "cell_type": "code",
   "execution_count": 3,
   "metadata": {},
   "outputs": [
    {
     "data": {
      "text/plain": [
       "<AxesSubplot:xlabel='value', ylabel='error'>"
      ]
     },
     "execution_count": 3,
     "metadata": {},
     "output_type": "execute_result"
    },
    {
     "data": {
      "image/png": "[encoded data removed]",
      "text/plain": [
       "<Figure size 432x288 with 1 Axes>"
      ]
     },
     "metadata": {
      "needs_background": "light"
     },
     "output_type": "display_data"
    }
   ],
   "source": [
    "dg_df.columns\n",
    "sns.histplot(x=\"value\", y=\"error\", data=dg_df)"
   ]
  },
  {
   "cell_type": "markdown",
   "metadata": {},
   "source": [
    "# Investigate High Uncertainty"
   ]
  },
  {
   "cell_type": "code",
   "execution_count": 4,
   "metadata": {},
   "outputs": [],
   "source": [
    "def flatten(l):\n",
    "    return [item for sublist in l for item in sublist]"
   ]
  },
  {
   "cell_type": "code",
   "execution_count": 5,
   "metadata": {},
   "outputs": [],
   "source": [
    "# rxn1"
   ]
  },
  {
   "cell_type": "code",
   "execution_count": 65,
   "metadata": {},
   "outputs": [
    {
     "name": "stdout",
     "output_type": "stream",
     "text": [
      "{'_id': 'R3aa94696bec809ec6b76649dd079fac1b8593248a8b52189cec272808071e972', 'Reactants': [(2, 'Ca3b7244a6046316e687bb3c126a8515f7cd384ea'), (1, 'X8dc023d8052d83fb6feadf8541387e57c199cad0')], 'Products': [(1, 'Cd6cd3326d9e6e129503f3b56f437a38935e8eccb'), (1, 'Cbfdb0a5964c81f70a798ddb005433d2e6408caa9'), (1, 'Xad024c97bc6d1c83baf5d8902af02c3a3db5358e')], 'Operators': ['rule0045'], 'SMILES_rxn': '(2) O=C(O)CC(O)C(O)CC(=O)C(=O)O + (1) O=O => (1) O=C(O)C(=O)CC(O)C(O)CO + (1) O=C(O)CC(O)C(O)C(O)C(=O)C(=O)O + (1) O=C=O'}\n"
     ]
    },
    {
     "data": {
      "text/plain": [
       "{Compound(id=469531, inchi_key=LLBCAJMKUMLADE-UHFFFAOYSA-L): False,\n",
       " Compound(id=7, inchi_key=MYMOFIZGZYHOMD-UHFFFAOYSA-N): True,\n",
       " Compound(id=695760, inchi_key=VJJXZTAKKXTSAW-UHFFFAOYSA-N): False,\n",
       " Compound(id=694613, inchi_key=WPAMZTWLKIDIOP-UHFFFAOYSA-N): False,\n",
       " Compound(id=16, inchi_key=CURLTUGMZLYLDI-UHFFFAOYSA-N): True}"
      ]
     },
     "execution_count": 65,
     "metadata": {},
     "output_type": "execute_result"
    }
   ],
   "source": [
    "high_unc_rxns = dg_df[dg_df.error < 40][\"_id\"].to_list()\n",
    "\n",
    "r_id = high_unc_rxns[3]\n",
    "print(pk.reactions[r_id])\n",
    "rcts = [cpd[1] for cpd in pk.reactions[r_id][\"Reactants\"]]\n",
    "pds = [cpd[1] for cpd in pk.reactions[r_id][\"Products\"]]\n",
    "\n",
    "rcts_eq = [thermo.get_eQ_compound_from_cid(_id, pk) for _id in rcts]\n",
    "pds_eq = [thermo.get_eQ_compound_from_cid(_id, pk) for _id in pds]\n",
    "\n",
    "{cpd: not cpd.group_vector for cpd in flatten([rcts_eq, pds_eq])}"
   ]
  },
  {
   "cell_type": "markdown",
   "metadata": {},
   "source": [
    "## Reaction 2"
   ]
  },
  {
   "cell_type": "code",
   "execution_count": 7,
   "metadata": {},
   "outputs": [
    {
     "name": "stdout",
     "output_type": "stream",
     "text": [
      "{'_id': 'R5c72665366a072a7be2342a0590bbea0aee3c27ca8dfd45f8e06670398614f27', 'Reactants': [(1, 'Xa2a868d3f3866d6bfbbe78b615e42f81511ebff8'), (1, 'Cf031a98796cbfbdb29218e9bf890a0664e5c66b0')], 'Products': [(1, 'C5976b2a69df3a14341c45c62cfeff2f01ad89559'), (1, 'C68c8c0a5e3a3101108f81caa2059e18db40f4df1')], 'Operators': ['rule0037'], 'SMILES_rxn': '(1) Nc1nc2c(ncn2C2OC(COP(=O)(O)OP(=O)(O)OP(=O)(O)OP(=O)(O)O)C(O)C2O)c(=O)[nH]1 + (1) O=P(O)(O)OP(=O)(O)O => (1) Nc1nc2c(ncn2C2OC(CO)C(O)C2O)c(=O)[nH]1 + (1) O=P(O)(O)OP(=O)(O)OP(=O)(O)OP(=O)(O)OP(=O)(O)OP(=O)(O)O'}\n"
     ]
    },
    {
     "data": {
      "text/plain": [
       "{Compound(id=14, inchi_key=XPPKVPWEQAFLFU-UHFFFAOYSA-K): True,\n",
       " Compound(id=495033, inchi_key=KDFXXNGTULMGMF-UHFFFAOYSA-I): False,\n",
       " Compound(id=694561, inchi_key=NYHBQMYGNKIUIF-UHFFFAOYSA-N): False,\n",
       " Compound(id=696225, inchi_key=LSYVCAOPFHHUHM-UHFFFAOYSA-N): True}"
      ]
     },
     "execution_count": 7,
     "metadata": {},
     "output_type": "execute_result"
    }
   ],
   "source": [
    "high_unc_rxns = dg_df[dg_df.error > 10000][\"_id\"].to_list()\n",
    "\n",
    "r_id = high_unc_rxns[1]\n",
    "print(pk.reactions[r_id])\n",
    "rcts = [cpd[1] for cpd in pk.reactions[r_id][\"Reactants\"]]\n",
    "pds = [cpd[1] for cpd in pk.reactions[r_id][\"Products\"]]\n",
    "\n",
    "rcts_eq = [thermo.get_eQ_compound_from_cid(_id, pk) for _id in rcts]\n",
    "pds_eq = [thermo.get_eQ_compound_from_cid(_id, pk) for _id in pds]\n",
    "\n",
    "{cpd: not cpd.group_vector for cpd in flatten([rcts_eq, pds_eq])}"
   ]
  },
  {
   "cell_type": "code",
   "execution_count": 8,
   "metadata": {},
   "outputs": [
    {
     "data": {
      "text/plain": [
       "'O=P(O)(O)OP(=O)(O)OP(=O)(O)OP(=O)(O)OP(=O)(O)OP(=O)(O)O'"
      ]
     },
     "execution_count": 8,
     "metadata": {},
     "output_type": "execute_result"
    }
   ],
   "source": [
    "pds_eq[-1].smiles"
   ]
  },
  {
   "cell_type": "markdown",
   "metadata": {},
   "source": [
    "## Rxn3"
   ]
  },
  {
   "cell_type": "code",
   "execution_count": 9,
   "metadata": {},
   "outputs": [
    {
     "name": "stdout",
     "output_type": "stream",
     "text": [
      "{'_id': 'R2b387404bd9eca55987a72bfc7296b1f8a77b7c7fea32f941d03b1d28d643d89', 'Reactants': [(1, 'C00d5173ce57b441b2c94511ec509bd300df17cf6'), (1, 'X73bc8ef21db580aefe4dbc0af17d4013961d9d17')], 'Products': [(1, 'C148edd1b7e4448960973140813259d8c10f663f3'), (1, 'C24f799b65f77e5bef0585b5d5138bb22868a8c16')], 'Operators': ['rule0013'], 'SMILES_rxn': '(1) C#CNC(C)C(=O)O + (1) O => (1) C#CO + (1) CC(N)C(=O)O'}\n"
     ]
    },
    {
     "data": {
      "text/plain": [
       "{Compound(id=694329, inchi_key=LXAXDNARFSIPLO-UHFFFAOYSA-N): False,\n",
       " Compound(id=5, inchi_key=XLYOFNOQVPJJNP-UHFFFAOYSA-N): True,\n",
       " Compound(id=694889, inchi_key=QFXZANXYUCUTQH-UHFFFAOYSA-N): True,\n",
       " Compound(id=691598, inchi_key=QNAYBMKLOCPYGJ-UHFFFAOYSA-N): False}"
      ]
     },
     "execution_count": 9,
     "metadata": {},
     "output_type": "execute_result"
    }
   ],
   "source": [
    "high_unc_rxns = dg_df[dg_df.error > 10000][\"_id\"].to_list()\n",
    "\n",
    "r_id = high_unc_rxns[2]\n",
    "print(pk.reactions[r_id])\n",
    "rcts = [cpd[1] for cpd in pk.reactions[r_id][\"Reactants\"]]\n",
    "pds = [cpd[1] for cpd in pk.reactions[r_id][\"Products\"]]\n",
    "\n",
    "rcts_eq = [thermo.get_eQ_compound_from_cid(_id, pk) for _id in rcts]\n",
    "pds_eq = [thermo.get_eQ_compound_from_cid(_id, pk) for _id in pds]\n",
    "\n",
    "{cpd: not cpd.group_vector for cpd in flatten([rcts_eq, pds_eq])}"
   ]
  },
  {
   "cell_type": "markdown",
   "metadata": {},
   "source": [
    "# Get only single new compound reactions"
   ]
  },
  {
   "cell_type": "code",
   "execution_count": 20,
   "metadata": {},
   "outputs": [
    {
     "name": "stdout",
     "output_type": "stream",
     "text": [
      "R521ed646fdf445a3605a6b462cd1ef533791a3ef025d5a12de4caaa6f6a609e4\n",
      "Rc7f7b42f04f857e1c3a369e80e480cd1a8e27caab65f410c708209c6991e7d65\n",
      "R8559dda78df092c57789e0cefea667498ac2dbe404c4b6bc2b0044f06aed656a\n",
      "R97dccefce9de46f94e77d3ef5df07d8711f6ae4b1bf537a1c2fa6e925ac0a58b\n",
      "R9d44c7713252bfc75a4a07bdb1e3a1c0bf31518e808279af67222b03b03c917d\n",
      "R3b4fbc52c3b37ce3cecaa3b122e740ccedd92ab0d920e2e114f1626d4200cdca\n",
      "Rc17b991b5f1a32b05b584e6c8f0bb2e96e912bd012b5157ea35d0d2499417c9e\n",
      "R300aad3a34f0a93c8936d95d8a05fc08f8e27cf5828a1764c27730107edd362f\n",
      "R8d20c593094a34f78ef634630d709a88668060fb629f479062ccf75853b1d1c9\n",
      "R7f57a465b5aa1935cf20c325e4f5b211ddfd62013e2e22a726929aa0523df62b\n",
      "Rdb519669f3a91e80b522817664c79455eb9840e50c836540f1cdd7008bed9545\n",
      "R5eb508e8aafe62c3f3f1e169b3578eca2afaf285030bac2b643962dd2a67857e\n",
      "Rfd765776f82c5568bde558851975da74593c67ed0274de94d8fc8e90e03f34f2\n",
      "R638ec30215bec2414b97dd9653d95f1c363e232149c2079191f7f6c559fb2dbd\n",
      "R88b437d2eea9f82f1f71e5c1756c4881cbfd7ceaaa7ef3b2bde6a27b3c696a56\n",
      "R0dce76d9d7407d4d64ab2344a980db4b2336d8711f003b14d13718a809fb69a8\n",
      "R3fd8ea95ad5ee0eddc28bde390eff799713abb21712d2dfb1282d4e20981f949\n",
      "R796c664e2ee019f079db82b44542e4659fb4bb0c34a1717fd8242d1cf84dca08\n",
      "R9fc9ce2f7b05b6b9d7fe08d6db8c48e6b6f3b992eeabb294ce5448679ac0918c\n",
      "R0c8caa06e5894309f881226743cffe71dacca47994ee724ffb5c07f7a1c9b2fc\n",
      "R1f180133ff339efd861a7da56ccabd631a7354c492746f0063a19b9f4963026d\n",
      "R1e206f91bc96119b440dc7c48f5d174e8e5e8df127f15e840ff9b309e0d117ec\n",
      "R77cdb54ed3bc4b75bc179c882f4056b6af0da44072929d83fbf61d3c63bb54bc\n",
      "R8c4de58f0526331a77a413bd95b9ce2391879f5ca7a10d48b06bbade333efc69\n",
      "Rc859f839ea19a90f230df4fb7bb3ce2c9bf5825775cbeca60b5645d362c7dbd9\n",
      "Rf9bf8f210b5445ab36af39b833bd7feff0d0def0ea6fb14bcff76a3a02aaa8ad\n"
     ]
    }
   ],
   "source": [
    "high_unc_rxns = dg_df[dg_df.error > 10000][\"_id\"].to_list()\n",
    "rids = []\n",
    "for r_id in range(100): #len(high_unc_rxns)):\n",
    "    r_id = high_unc_rxns[r_id]\n",
    "    rcts = [cpd[1] for cpd in pk.reactions[r_id][\"Reactants\"]]\n",
    "    pds = [cpd[1] for cpd in pk.reactions[r_id][\"Products\"]]\n",
    "\n",
    "    rcts_eq = [thermo.get_eQ_compound_from_cid(_id, pk) for _id in rcts]\n",
    "    pds_eq = [thermo.get_eQ_compound_from_cid(_id, pk) for _id in pds]\n",
    "    if sum([cpd.id > 600000 for cpd in flatten([rcts_eq, pds_eq])]) == 1:\n",
    "        rids.append(r_id)\n",
    "        print(r_id)\n",
    "\n"
   ]
  },
  {
   "cell_type": "code",
   "execution_count": 39,
   "metadata": {},
   "outputs": [
    {
     "name": "stdout",
     "output_type": "stream",
     "text": [
      "{'_id': 'R8559dda78df092c57789e0cefea667498ac2dbe404c4b6bc2b0044f06aed656a', 'Reactants': [(1, 'Xa2a868d3f3866d6bfbbe78b615e42f81511ebff8'), (1, 'C048be877d9ebfc606365d9e79d0da5255a87db33')], 'Products': [(1, 'Ca6b721f00d9518265310a77de05506e127461edc'), (1, 'Cf765878174ce76048d894f34fc5f45795dd3f54a')], 'Operators': ['rule0037'], 'SMILES_rxn': '(1) C[N+](C)(C)CCOP(=O)(O)OCC(O)CO + (1) O=P(O)(O)OP(=O)(O)O => (1) C[N+](C)(C)CCO + (1) O=P(O)(O)OP(=O)(O)OP(=O)(O)OCC(O)CO'}\n"
     ]
    },
    {
     "data": {
      "text/plain": [
       "{Compound(id=14, inchi_key=XPPKVPWEQAFLFU-UHFFFAOYSA-K): True,\n",
       " Compound(id=494894, inchi_key=SUHOQUVVVLNYQR-UHFFFAOYSA-N): False,\n",
       " Compound(id=85, inchi_key=OEYIOHPDSNJKLS-UHFFFAOYSA-N): False,\n",
       " Compound(id=695283, inchi_key=GCYZRQQEBNFQTK-UHFFFAOYSA-N): False}"
      ]
     },
     "execution_count": 39,
     "metadata": {},
     "output_type": "execute_result"
    }
   ],
   "source": [
    "high_unc_rxns = dg_df[dg_df.error > 10000][\"_id\"].to_list()\n",
    "\n",
    "r_id = rids[2]\n",
    "print(pk.reactions[r_id])\n",
    "rcts = [cpd[1] for cpd in pk.reactions[r_id][\"Reactants\"]]\n",
    "pds = [cpd[1] for cpd in pk.reactions[r_id][\"Products\"]]\n",
    "\n",
    "rcts_eq = [thermo.get_eQ_compound_from_cid(_id, pk) for _id in rcts]\n",
    "pds_eq = [thermo.get_eQ_compound_from_cid(_id, pk) for _id in pds]\n",
    "\n",
    "{cpd: not cpd.group_vector for cpd in flatten([rcts_eq, pds_eq])}"
   ]
  },
  {
   "cell_type": "code",
   "execution_count": 40,
   "metadata": {},
   "outputs": [
    {
     "data": {
      "text/html": [
       "(-0 &plusmn; 7)×10<sup>4</sup> kilojoule/mole"
      ],
      "text/latex": [
       "$\\left(-0 \\pm 7\\right) \\times 10^{4}\\ \\frac{\\mathrm{kilojoule}}{\\mathrm{mole}}$"
      ],
      "text/plain": [
       "<Measurement(-196.38170600189312, 70715.2515755897, kilojoule / mole)>"
      ]
     },
     "execution_count": 40,
     "metadata": {},
     "output_type": "execute_result"
    }
   ],
   "source": [
    "thermo.physiological_dg_prime_from_rid(r_id, pk)"
   ]
  },
  {
   "cell_type": "code",
   "execution_count": 50,
   "metadata": {},
   "outputs": [],
   "source": [
    "from equilibrator_api import Reaction, ComponentContribution\n",
    "from equilibrator_cache import CompoundCache\n",
    "from equilibrator_assets.local_compound_cache import LocalCompoundCache\n",
    "\n",
    "from sqlalchemy import create_engine\n",
    "\n",
    "# Connect to my db, using postgresql\n",
    "lc = LocalCompoundCache()\n",
    "lc.ccache = CompoundCache(create_engine(\"postgresql:///eq_compounds\"))\n",
    "\n",
    "cc = ComponentContribution()"
   ]
  },
  {
   "cell_type": "markdown",
   "metadata": {},
   "source": [
    "# Define Reaction + Get Compounds"
   ]
  },
  {
   "cell_type": "code",
   "execution_count": 56,
   "metadata": {},
   "outputs": [
    {
     "data": {
      "text/plain": [
       "[Compound(id=494894, inchi_key=SUHOQUVVVLNYQR-UHFFFAOYSA-N),\n",
       " Compound(id=14, inchi_key=XPPKVPWEQAFLFU-UHFFFAOYSA-K),\n",
       " Compound(id=85, inchi_key=OEYIOHPDSNJKLS-UHFFFAOYSA-N),\n",
       " Compound(id=695283, inchi_key=GCYZRQQEBNFQTK-UHFFFAOYSA-N)]"
      ]
     },
     "execution_count": 56,
     "metadata": {},
     "output_type": "execute_result"
    }
   ],
   "source": [
    "# Define things manually just for example\n",
    "rxn_smarts = \"C[N+](C)(C)CCOP(=O)(O)OCC(O)CO.O=P(O)(O)OP(=O)(O)O>>C[N+](C)(C)CCO.O=P(O)(O)OP(=O)(O)OP(=O)(O)OCC(O)CO\"\n",
    "stoichiometry = [(-1, \"C[N+](C)(C)CCOP(=O)(O)OCC(O)CO\"), (-1, \"O=P(O)(O)OP(=O)(O)O\"), (1, \"C[N+](C)(C)CCO\"), (1, \"O=P(O)(O)OP(=O)(O)OP(=O)(O)OCC(O)CO\")]\n",
    "eq_cpds = [thermo.lc.get_compounds(smi[1]) for smi in stoichiometry]\n",
    "\n",
    "# Check to see which compounds already existed, all but last\n",
    "eq_cpds\n"
   ]
  },
  {
   "cell_type": "markdown",
   "metadata": {},
   "source": [
    "# Generate eQ Reaction and get dgs"
   ]
  },
  {
   "cell_type": "code",
   "execution_count": 60,
   "metadata": {},
   "outputs": [
    {
     "name": "stdout",
     "output_type": "stream",
     "text": [
      "Physiological: (-0 +/- 7)e+04 kilojoule / mole\n",
      "Standard: (-0 +/- 7)e+04 kilojoule / mole\n"
     ]
    }
   ],
   "source": [
    "# Define reaction string manually and then create dictionary mapping letters to compounds\n",
    "rxn_str = \"1 A + 1 B => 1 C + 1 D\"\n",
    "eq_dict = {letter: eq_cpd for letter, eq_cpd in zip([\"A\", \"B\", \"C\", \"D\"], eq_cpds)}\n",
    "\n",
    "# Generate reaction\n",
    "eq_rxn = Reaction.parse_formula(eq_dict.get, rxn_str)\n",
    "assert eq_rxn.is_balanced\n",
    "\n",
    "# Calculate some dgs\n",
    "phys_dg = cc.physiological_dg_prime(eq_rxn)\n",
    "stand_dg = cc.standard_dg(eq_rxn)\n",
    "\n",
    "print(f\"Physiological: {phys_dg}\\nStandard: {stand_dg}\")"
   ]
  },
  {
   "cell_type": "markdown",
   "metadata": {},
   "source": [
    "## The +/- value is huge. Only one compound isn't found in eQuilibrator natively"
   ]
  },
  {
   "cell_type": "code",
   "execution_count": 61,
   "metadata": {},
   "outputs": [
    {
     "data": {
      "text/plain": [
       "(-3102.6472748627743,\n",
       " array([-2.67970674e-01,  8.23626660e-02,  3.04228063e-01,  7.90757656e-02,\n",
       "         2.82306133e-01,  1.10700107e-01,  1.33035931e-01,  6.24950906e-02,\n",
       "         2.63900031e-02, -2.47208841e-01,  2.31974865e-02,  4.28275078e-02,\n",
       "         3.11713549e-04, -4.12537697e-01,  3.37777966e-01,  3.26368550e-03,\n",
       "         9.31486451e-02,  4.39016997e-01,  7.63176546e-02, -8.38796678e-01,\n",
       "        -4.24964393e-01, -1.67297077e-03,  2.92105881e-02,  2.39814631e-01,\n",
       "         9.53807951e-01,  1.81098875e-01, -6.72711860e-02,  3.25526411e-02,\n",
       "        -3.45336145e-01, -4.13905600e-01, -6.47759708e-03, -3.63504567e-01,\n",
       "        -3.05234650e-02,  1.18452749e-01, -4.24573862e-01, -1.86168059e-01,\n",
       "         6.94939758e-02,  9.62617676e-03, -3.43545461e-02, -2.62026341e-01,\n",
       "         9.54157318e-02, -4.59664895e-03, -9.51503737e-03,  4.13447358e-01,\n",
       "        -6.04660297e-02,  1.13834452e-16, -3.27680864e-01,  5.81386502e-03,\n",
       "         1.53482109e-01,  1.45888962e-01,  7.31436890e-03, -1.27123655e-02,\n",
       "         2.89011664e-02, -6.20019497e-01, -4.23520798e-02, -3.08932977e-01,\n",
       "         1.66588885e-02, -1.73461302e-01, -3.99852583e-01, -1.04692511e-03,\n",
       "        -8.69242123e-03, -4.84125741e-04,  2.93884232e-01, -4.54927420e-01,\n",
       "         1.97132884e-01, -7.15362390e-02, -1.84507960e-01,  8.07609871e-03,\n",
       "         4.37099394e-02, -3.12861610e-02, -1.75609314e-01,  1.97366737e-02,\n",
       "         2.77425491e-03,  7.57913305e-03, -2.36646224e-01, -4.07618255e-01,\n",
       "        -4.02869313e-03, -2.10040149e-01, -8.25665922e-02,  3.69877549e-02,\n",
       "         1.64986019e-02, -1.56245737e-03,  2.10683678e-02, -2.22601246e-01,\n",
       "        -1.49085242e-02, -8.06985889e-03, -2.29376346e-02,  9.75753991e-02,\n",
       "         4.12540636e-02,  1.87022877e-02, -1.76814824e-15, -1.83560510e-17,\n",
       "        -4.97060956e-16, -1.08818323e-17,  6.52435598e-17,  1.41922911e-16,\n",
       "         9.50955420e-17,  1.76395035e-16,  8.38537207e-17, -2.37414865e-17,\n",
       "        -1.92459862e-16,  5.43621510e-17, -5.06868751e-17,  7.46100501e-17,\n",
       "         4.41685330e-17,  4.76155336e-17,  6.93275292e-17, -9.63987021e-17,\n",
       "         7.30709913e-17,  8.90337507e-17,  1.53416725e-16,  4.16663977e-17,\n",
       "         8.94420205e-17,  4.62471519e-17, -5.00947991e-17, -2.69580941e-17,\n",
       "         8.73816129e-17, -9.03784155e-18, -1.57280042e-16,  2.41603443e-17,\n",
       "        -1.17106964e-16, -9.31058616e-17,  1.17920539e-16, -4.91279109e-17,\n",
       "         3.03873070e-18,  0.00000000e+00,  0.00000000e+00,  0.00000000e+00,\n",
       "         0.00000000e+00,  0.00000000e+00,  0.00000000e+00, -5.10252647e-17,\n",
       "        -2.37831923e-16, -1.43976755e-16, -1.71523113e-17, -2.10056865e-16,\n",
       "         1.25360241e-16, -1.31730564e-17,  1.66330166e-16,  1.09950367e-16,\n",
       "        -5.77778983e-33, -1.47859188e-15, -4.70804879e-16,  1.59323509e-16,\n",
       "         2.64924801e-16, -3.84349670e-17,  5.06322415e-17,  2.14309500e-16,\n",
       "         1.47803861e-16,  2.01212343e-16,  2.19144364e-16, -9.04495662e-17,\n",
       "         1.25867402e-16,  8.33775188e-16, -1.06636789e-16,  1.46352470e-16,\n",
       "         2.18412528e-16, -2.31134115e-16, -3.93802558e-17, -3.58515165e-17,\n",
       "         9.79170087e-19, -3.08187856e-16, -6.56159155e-16,  1.40160236e-16,\n",
       "         1.61817174e-17,  3.56180742e-16,  2.15200579e-16, -1.89193279e-16,\n",
       "        -1.93652061e-16, -1.34495279e-16,  4.40836603e-16,  2.17665021e-16,\n",
       "         5.41118528e-17, -1.21718635e-17,  5.56188091e-16, -1.19305438e-16,\n",
       "         3.42048845e-17, -2.60658719e-16,  1.15327347e-16,  1.77556317e-16,\n",
       "         7.18546519e-17, -1.38942202e-16,  3.83620798e-16,  6.52341577e-16,\n",
       "         2.88841623e-16, -2.07052969e-16, -5.12971623e-17,  6.02541546e-16,\n",
       "         4.57162316e-16, -1.98383587e-16,  9.71754314e-17, -1.03492391e-15,\n",
       "        -1.75496333e-16, -2.36324310e-16,  5.63115974e-16, -3.03264053e-16,\n",
       "         5.81080272e-16,  1.64516033e-01,  1.63710775e-02, -2.43037846e-02,\n",
       "         2.17949240e-01,  9.43330291e-02,  2.67267039e-02,  2.37566094e-01,\n",
       "        -8.02453946e-03, -3.21494803e-02,  3.13521816e-02, -2.03629057e-01,\n",
       "         4.05807900e-01,  1.08584923e-03, -2.70190577e-02, -1.71770882e-01,\n",
       "        -4.61672959e-02,  1.04511150e-01, -1.63568255e-02,  2.74678967e-02,\n",
       "        -1.03242331e-01, -1.43696565e-02,  8.08202950e-02,  2.72609225e-01,\n",
       "        -2.04749619e-01, -2.02745478e-02,  2.34908458e-01, -1.19061997e-01,\n",
       "        -2.68333199e-03, -1.03477909e-02, -2.38192226e-01,  1.17227355e-02,\n",
       "        -4.23779584e-02, -4.52635253e-02,  1.12035903e-01, -1.35739449e-01,\n",
       "        -2.87425703e-01,  1.41722283e-01, -3.90795773e-01,  1.49550703e-02,\n",
       "         5.02591819e-03, -1.57979169e-01,  1.07506054e-03,  1.51960088e-02,\n",
       "         9.54928468e-02,  2.16465004e-02, -4.32411692e-02,  2.32763658e-01,\n",
       "         1.83492193e-02,  1.87072408e-01,  1.32906091e-01, -1.06848008e-01,\n",
       "        -1.12900949e-01,  3.90285498e-03,  1.50577812e-01,  3.52300364e-03,\n",
       "         7.43800167e-03, -1.14051339e-02,  3.70219890e-01,  1.34778135e-01,\n",
       "        -5.07024516e-01, -1.61669842e-02, -2.10941787e-04,  6.18719387e-01,\n",
       "        -1.09652564e-02,  1.43691857e-03,  1.70288325e-01,  1.84687535e-01,\n",
       "        -2.10866557e-02,  2.85805925e-03,  6.61587559e-03,  4.67283290e-02,\n",
       "         5.44169610e-03,  5.35783020e-03, -2.12754179e-01,  4.28690813e-03,\n",
       "         4.33014303e-03,  4.29053922e-03, -4.05033787e-02,  6.15094574e-16,\n",
       "        -1.57445970e-01, -4.98574352e-02,  1.25556320e-01, -6.13746466e-03,\n",
       "        -5.08839973e-02, -1.33264962e-01,  5.68118130e-03,  9.05047259e-02,\n",
       "        -1.22198156e-02,  1.66378741e-01, -3.30160421e-02,  7.84060650e-02,\n",
       "        -1.91789442e-02,  4.83845067e-02, -4.49314241e-02, -3.26130371e-02,\n",
       "         1.92945817e-02,  2.62584646e-02, -9.95255982e-02, -3.13220240e-02,\n",
       "        -1.00086037e-01, -3.92564043e-04, -1.57236383e-01, -1.69861433e-01,\n",
       "        -1.90234017e-01, -1.36739845e-01, -3.70802006e-03, -1.18576205e-03,\n",
       "         1.53061584e-03, -3.19030349e-02,  7.18346749e-01, -2.33457577e-03,\n",
       "        -6.58115731e-04, -3.25841971e-02, -1.99364154e-01,  9.14300160e-03,\n",
       "         5.07281433e-03,  1.66532869e-02, -1.29083126e-02,  1.04064606e-02,\n",
       "         1.39492176e-02,  1.34310354e-04,  6.47116498e-03,  9.70656873e-03,\n",
       "         1.58541128e-03, -4.58154974e-02,  6.26509288e-02,  4.76425967e-02,\n",
       "         7.74517315e-02, -7.44837683e-02,  1.89276724e-02,  1.01588945e-01,\n",
       "         5.33802142e-02,  3.76953007e-02,  9.24107649e-03,  4.15321473e-01,\n",
       "         3.26034264e-02, -2.88852536e-03, -1.13439503e-01,  1.26284740e-02,\n",
       "         1.02169520e-01, -3.66454659e-02,  2.53707406e-01,  2.86280989e-03,\n",
       "         5.12496456e-02, -7.56722927e-03, -1.70710951e-02, -1.13445675e-01,\n",
       "         8.06690977e-02,  7.96124009e-02, -9.44656756e-03,  4.41827375e-02,\n",
       "        -3.93603838e-02, -1.35549380e-02, -3.90374656e-02, -7.40282458e-04,\n",
       "        -1.80753887e-01,  1.85862031e-01,  9.56822652e-04, -1.14453676e-01,\n",
       "         1.36355030e-03, -4.55268862e-02, -6.73567768e-02,  2.01119881e-02,\n",
       "        -5.52901756e-04, -1.03434986e-02,  9.93523183e-03, -3.80249066e-02,\n",
       "         4.33338832e-04, -2.54089136e-02,  4.57137531e-03, -4.42676666e-02,\n",
       "        -3.10548961e-02, -8.41932222e-02, -2.08257636e-02, -1.07468356e-02,\n",
       "         8.08025615e-05,  7.88062891e-05,  2.12647145e-01,  3.76977307e-03,\n",
       "        -1.31275736e-02,  4.03357089e-17,  2.61934436e-15, -1.64356750e-02,\n",
       "        -3.61046966e-02,  1.95462696e-01,  2.43819428e-02, -1.76587933e-02,\n",
       "         1.06743048e-02,  2.04380734e-02,  1.65636497e-02, -9.22204318e-02,\n",
       "         9.66351938e-03, -1.01854199e-03,  9.05326132e-03,  2.64772819e-02,\n",
       "         3.23071667e-03,  4.57482101e-03,  2.77800858e-02,  2.33210017e-01,\n",
       "        -6.32317050e-03, -1.70750473e-02, -2.84855567e-03, -4.79659074e-03,\n",
       "         2.38364320e-01, -9.42499765e-03,  3.21436829e-02,  9.23306007e-03,\n",
       "         1.65723207e-02, -1.11830332e-02, -2.88534448e-01, -2.72765850e-02,\n",
       "         5.61616391e-04,  3.08267307e-02,  3.94573470e-02,  2.54796735e-03,\n",
       "        -3.58254762e-04,  6.88689028e-03,  3.94674157e-02,  1.35262470e-01,\n",
       "        -1.41481594e-01, -6.80679938e-03,  6.95603316e-02,  4.27700127e-03,\n",
       "        -5.29623638e-02,  8.45611779e-02, -4.95788786e-02, -1.39167002e-01,\n",
       "         1.74938661e-03, -3.19894567e-05,  6.78780475e-05, -3.82313521e-01,\n",
       "        -9.57951266e-04, -6.19814819e-03, -1.09107756e-02, -6.25263430e-02,\n",
       "         1.53268452e-02,  2.53898022e-02, -4.17149504e-03,  3.73126547e-02,\n",
       "         5.58688768e-03, -6.14592320e-02,  9.65761556e-03, -1.18747977e-03,\n",
       "        -4.92599001e-02, -2.53886893e-02, -1.76707764e-03,  7.45509476e-04,\n",
       "        -1.21737068e-03,  6.27680169e-01,  1.45059155e-02, -1.80307470e-02,\n",
       "        -2.31866178e-03, -1.91460031e-02,  1.08609240e-03,  1.30313630e-03,\n",
       "        -1.79225554e-02, -3.69894383e-02, -9.97716482e-04, -8.59186014e-03,\n",
       "        -2.15166179e-02, -1.91780054e-02,  3.93946080e-03,  5.72963993e-02,\n",
       "         6.26971524e-02,  2.20722087e-02, -4.46527248e-03, -5.63772525e-04,\n",
       "         1.79413630e-02, -1.16112226e-01, -5.06070560e-04,  3.06783001e-02,\n",
       "         1.92772382e-02, -1.68940845e-03,  4.45605897e-02,  6.85789244e-03,\n",
       "        -1.26895678e-03,  3.10656494e-02,  3.05440306e-02,  1.08511410e-01,\n",
       "         3.87781702e-03,  9.20816525e-03, -2.54965690e-02,  1.19493174e-02,\n",
       "        -1.91451928e-03,  3.37176486e-02, -6.05681863e-03, -1.78900301e-02,\n",
       "         1.30841257e-03, -2.87301888e-03, -1.93441174e-02, -2.17899132e-02,\n",
       "         8.03243530e-03,  3.28668076e-02, -7.30718705e-04, -1.64520320e-03,\n",
       "         5.98057663e-02, -3.69235795e-03, -4.83647259e-03,  1.77515993e-02,\n",
       "         1.20166206e-02, -5.32953708e-02, -6.63783619e-02,  6.30184847e-05,\n",
       "        -1.69374354e-03, -3.76107786e-03, -2.72516449e-02,  2.64821350e-03,\n",
       "        -1.53271860e-02,  8.74925982e-04, -2.31751410e-02,  3.76705940e-02,\n",
       "         3.07929510e-02,  2.77239175e-03, -2.99869251e-02,  7.30896025e-04,\n",
       "         2.87246802e-02, -2.76021663e-03,  4.52526438e-03, -1.78722587e-03,\n",
       "        -7.62730003e-03,  1.22724530e-03,  1.47422632e-03, -2.30541580e-03,\n",
       "         1.21284041e-02, -2.01578801e-02, -2.12014269e-03, -7.79246315e-03,\n",
       "         9.83740680e-02, -3.54144718e-03, -2.93472683e-02,  1.27263476e-01,\n",
       "        -5.47801557e-02,  3.10380306e-03, -1.39115796e-02, -5.93034085e-05,\n",
       "        -7.43733764e-03,  3.02942846e-02, -7.41028914e-04,  3.26186121e-03,\n",
       "        -1.94060057e-02,  2.81601180e-02, -1.56735836e-04,  6.36047397e-02,\n",
       "        -1.07570884e-02, -7.44043315e-02, -2.02188275e-04,  1.99081845e-03,\n",
       "        -2.52025320e-02, -1.03967547e-03, -3.77316534e-02, -1.94752787e-03,\n",
       "        -2.38435983e-02,  1.59360337e-04, -1.02181216e-02,  7.15451876e-03,\n",
       "        -3.92142206e-03, -3.60441295e-03,  4.52384590e-02,  2.27810183e-03,\n",
       "        -7.74619108e-04,  7.66804912e-02, -7.46857573e-05, -1.37796068e-03,\n",
       "        -2.29724079e-03,  2.60622902e-04, -1.16175962e-03,  2.22378847e-03,\n",
       "         4.28454053e-04, -5.49062389e-04, -1.53911897e-02, -1.69868376e-04,\n",
       "         2.59897990e-02, -2.27317499e-03, -6.44158843e-03, -2.04562908e-04,\n",
       "        -2.55157735e-01,  1.10209504e-03,  3.59611675e-04, -5.89715623e-05,\n",
       "        -2.11030502e-04, -3.68224938e-04, -5.98254567e-04,  1.55044094e-03,\n",
       "         3.29255055e-04, -1.10205061e-03, -1.37424184e-04, -9.48344259e-03,\n",
       "        -1.94508075e-04,  3.54081701e-02,  8.96272156e-04,  4.08694359e-03,\n",
       "        -6.11692671e-18,  1.87703426e-16]),\n",
       " array([ 1.79703999e-16,  1.82351044e-16, -1.38713262e-30,  8.11363463e-17,\n",
       "        -2.89102501e-31,  1.53458098e-30, -2.59619435e-31,  1.25568839e-31,\n",
       "         3.25325291e-31,  2.65588610e-16,  1.09255370e-16,  2.17321935e-30,\n",
       "         1.00383417e-16,  3.54579004e-17,  5.25647958e-17, -1.01689101e-31,\n",
       "         1.42758336e-17,  8.62816615e-32, -5.38875198e-31, -1.00791989e-17,\n",
       "         1.54382544e-30,  1.00148357e-30,  9.55261252e-32,  2.45002779e-16,\n",
       "        -3.11190389e-16,  2.83578911e-17, -3.78764139e-17, -1.72240507e-17,\n",
       "        -5.76791405e-16, -7.01808872e-31,  1.28766511e-16,  1.27616555e-30,\n",
       "        -1.07520007e-16,  5.17516753e-17, -1.07917312e-32,  5.58753010e-17,\n",
       "         1.50655696e-16, -7.26637937e-16, -1.07945781e-16,  5.30777394e-31,\n",
       "        -2.71941308e-31,  3.11304597e-17, -3.70879398e-31,  7.72036192e-17,\n",
       "        -2.08558191e-16, -1.07543928e-30, -1.40230612e-16,  1.02292735e-16,\n",
       "        -1.14624604e-16,  3.66697061e-31, -5.43931663e-17,  5.28762511e-17,\n",
       "         2.18878411e-16,  1.51776558e-16,  1.18704692e-30, -1.47125037e-16,\n",
       "         6.71384918e-17, -2.65395778e-16, -1.06355551e-17,  1.35563776e-16,\n",
       "         1.25257472e-16,  1.43561779e-16,  1.72138577e-16,  2.05194896e-17,\n",
       "        -2.30749146e-16, -4.77698863e-17, -1.16659252e-16,  7.87195592e-17,\n",
       "        -6.70700996e-17, -2.35894393e-16, -1.55629170e-16, -4.31419468e-16,\n",
       "         9.36193807e-17, -4.18328745e-33, -9.95000687e-17, -2.31163567e-32,\n",
       "        -1.31677717e-16, -7.88223858e-17, -5.35218638e-16]))"
      ]
     },
     "execution_count": 61,
     "metadata": {},
     "output_type": "execute_result"
    }
   ],
   "source": [
    "cc.standard_dg_formation(eq_cpds[-1])"
   ]
  }
 ],
 "metadata": {
  "interpreter": {
   "hash": "e2801dc999a1f11a8006cd6a3b0963d1db5f04dc1d1cd7acfb0a119c7f614f07"
  },
  "kernelspec": {
   "display_name": "Python 3.9.2 64-bit ('minedb': conda)",
   "name": "python3"
  },
  "language_info": {
   "codemirror_mode": {
    "name": "ipython",
    "version": 3
   },
   "file_extension": ".py",
   "mimetype": "text/x-python",
   "name": "python",
   "nbconvert_exporter": "python",
   "pygments_lexer": "ipython3",
   "version": "3.9.2"
  },
  "orig_nbformat": 4
 },
 "nbformat": 4,
 "nbformat_minor": 2
}
